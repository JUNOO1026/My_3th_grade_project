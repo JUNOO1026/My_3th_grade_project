{
 "cells": [
  {
   "cell_type": "code",
   "execution_count": 16,
   "metadata": {},
   "outputs": [
    {
     "name": "stdout",
     "output_type": "stream",
     "text": [
      "Python version :  3.7.7 (default, May  6 2020, 11:45:54) [MSC v.1916 64 bit (AMD64)]\n",
      "TensorFlow version :  2.2.0\n",
      "Keras version :  2.3.0-tf\n"
     ]
    }
   ],
   "source": [
    "# 1. 전처리\n",
    "# 내 사진들을 학습시킨 (120,180) 의 grayscale 의 학습데이터를 만들어야함\n",
    "# D:\\SPB_DATA\\face_data 폴더 안에 Gyujin (1~144) 의 총 145개의 데이터가있음\n",
    "# 이것을 (145,120,180) 의 grayscale 값을 가지는 것으로 변경해야함.\n",
    "\n",
    "\n",
    "#1. 데이터 불러오기.\n",
    "import glob\n",
    "import sys\n",
    "import cv2\n",
    "import numpy as np\n",
    "import tensorflow as tf\n",
    "import matplotlib.pyplot as plt\n",
    "from tensorflow import keras\n",
    "from tensorflow.keras.models import Sequential\n",
    "from tensorflow.keras.layers import Dense, Dropout, Flatten\n",
    "from tensorflow.keras.layers import Conv2D, MaxPooling2D\n",
    "from keras.preprocessing import image\n",
    "from keras.preprocessing.image import ImageDataGenerator\n",
    "from keras.preprocessing.image import array_to_img, img_to_array, load_img\n",
    "from PIL import Image\n",
    "from tensorflow import keras\n",
    "\n",
    "np.random.seed(7)\n",
    "\n",
    "###################################연습용#######################################\n",
    "# for i in range(1,145):\n",
    "#     image_gray = cv2.imread('Gyujin '+'('+str(i)+')''.jpg',cv2.IMREAD_GRAYSCALE)\n",
    "#     face_classifier = cv2.CascadeClassifier('haarcascade_frontalface_default.xml')\n",
    "#     print(image_gray.shape)\n",
    "    \n",
    "#     total_data = image_gray.reshape(144,720,1280)\n",
    "#################################연습용##########################################\n",
    "\n",
    "print('Python version : ', sys.version)\n",
    "print('TensorFlow version : ', tf.__version__)\n",
    "print('Keras version : ', keras.__version__)\n",
    "    \n",
    "   "
   ]
  },
  {
   "cell_type": "code",
   "execution_count": 17,
   "metadata": {},
   "outputs": [],
   "source": [
    "train_files = glob.glob(\"C:/Users/User/Tensorflow_Folder/test_folder/face_data/train/*.jpg\")\n",
    "test_files = glob.glob(\"C:/Users/User/Tensorflow_Folder/test_folder/face_data/test/*.jpg\")"
   ]
  },
  {
   "cell_type": "code",
   "execution_count": 18,
   "metadata": {},
   "outputs": [],
   "source": [
    "train_input = []\n",
    "train_label = []\n",
    "test_input = []\n",
    "test_label = []"
   ]
  },
  {
   "cell_type": "code",
   "execution_count": 19,
   "metadata": {},
   "outputs": [
    {
     "name": "stdout",
     "output_type": "stream",
     "text": [
      "2600\n"
     ]
    }
   ],
   "source": [
    "print(len(train_files))"
   ]
  },
  {
   "cell_type": "code",
   "execution_count": 20,
   "metadata": {},
   "outputs": [
    {
     "name": "stdout",
     "output_type": "stream",
     "text": [
      "1\n",
      "2\n",
      "3\n",
      "4\n",
      "5\n",
      "6\n",
      "7\n",
      "8\n",
      "9\n",
      "10\n",
      "11\n",
      "12\n",
      "13\n",
      "14\n",
      "15\n",
      "16\n",
      "17\n",
      "18\n",
      "19\n",
      "20\n",
      "21\n",
      "22\n",
      "23\n",
      "24\n",
      "25\n",
      "26\n",
      "27\n",
      "28\n",
      "29\n",
      "30\n",
      "31\n",
      "32\n",
      "33\n",
      "34\n",
      "35\n",
      "36\n",
      "37\n",
      "38\n",
      "39\n",
      "40\n",
      "41\n",
      "42\n",
      "43\n",
      "44\n",
      "45\n",
      "46\n",
      "47\n",
      "48\n",
      "49\n",
      "50\n",
      "51\n",
      "52\n",
      "53\n",
      "54\n",
      "55\n",
      "56\n",
      "57\n",
      "58\n",
      "59\n",
      "60\n",
      "61\n",
      "62\n",
      "63\n",
      "64\n",
      "65\n",
      "66\n",
      "67\n",
      "68\n",
      "69\n",
      "70\n",
      "71\n",
      "72\n",
      "73\n",
      "74\n",
      "75\n",
      "76\n",
      "77\n",
      "78\n",
      "79\n",
      "80\n",
      "81\n",
      "82\n",
      "83\n",
      "84\n",
      "85\n",
      "86\n",
      "87\n",
      "88\n",
      "89\n",
      "90\n",
      "91\n",
      "92\n",
      "93\n",
      "94\n",
      "95\n",
      "96\n",
      "97\n",
      "98\n",
      "99\n",
      "100\n",
      "101\n",
      "102\n",
      "103\n",
      "104\n",
      "105\n",
      "106\n",
      "107\n",
      "108\n",
      "109\n",
      "110\n",
      "111\n",
      "112\n",
      "113\n",
      "114\n",
      "115\n",
      "116\n",
      "117\n",
      "118\n",
      "119\n",
      "120\n",
      "121\n",
      "122\n",
      "123\n",
      "124\n",
      "125\n",
      "126\n",
      "127\n",
      "128\n",
      "129\n",
      "130\n",
      "131\n",
      "132\n",
      "133\n",
      "134\n",
      "135\n",
      "136\n",
      "137\n",
      "138\n",
      "139\n",
      "140\n",
      "141\n",
      "142\n",
      "143\n",
      "144\n",
      "145\n",
      "146\n",
      "147\n",
      "148\n",
      "149\n",
      "150\n",
      "151\n",
      "152\n",
      "153\n",
      "154\n",
      "155\n",
      "156\n",
      "157\n",
      "158\n",
      "159\n",
      "160\n",
      "161\n",
      "162\n",
      "163\n",
      "164\n",
      "165\n",
      "166\n",
      "167\n",
      "168\n",
      "169\n",
      "170\n",
      "171\n",
      "172\n",
      "173\n",
      "174\n",
      "175\n",
      "176\n",
      "177\n",
      "178\n",
      "179\n",
      "180\n",
      "181\n",
      "182\n",
      "183\n",
      "184\n",
      "185\n",
      "186\n",
      "187\n",
      "188\n",
      "189\n",
      "190\n",
      "191\n",
      "192\n",
      "193\n",
      "194\n",
      "195\n",
      "196\n",
      "197\n",
      "198\n",
      "199\n",
      "200\n"
     ]
    }
   ],
   "source": [
    "idx = 0\n",
    "\n",
    "for i in range(len(train_files)):\n",
    "    \n",
    "    if i%13 == 0:\n",
    "        label = [0 for j in range(int(len(train_files)/13))]\n",
    "        label[idx] = 1\n",
    "        idx = idx + 1\n",
    "        print(idx)\n",
    "        \n",
    "        \n",
    "    img = cv2.imread(train_files[i], cv2.IMREAD_GRAYSCALE)\n",
    "    crop_img = img.copy()\n",
    "    crop_img = img[20:400, 150:520]\n",
    "    resize_img = cv2.resize(crop_img, (92, 112), interpolation=cv2.INTER_AREA)\n",
    "    if(i>2580):\n",
    "        cv2.imshow('image', resize_img)\n",
    "        cv2.waitKey(0)\n",
    "        cv2.destroyAllWindows()\n",
    "\n",
    "    train_input.append(resize_img)\n",
    "    train_label.append(label)\n",
    "    #cv2.imwrite(train_files[i], resize_img)\n",
    "\n",
    "train_input = np.array(train_input)\n",
    "train_label = np.array(train_label)\n"
   ]
  },
  {
   "cell_type": "code",
   "execution_count": 21,
   "metadata": {},
   "outputs": [
    {
     "name": "stdout",
     "output_type": "stream",
     "text": [
      "[[208 210 210 ... 202 202 201]\n",
      " [208 207 208 ... 202 202 201]\n",
      " [209 208 208 ... 202 201 202]\n",
      " ...\n",
      " [190 189 188 ...  20  20  24]\n",
      " [189 187 186 ...  19  19  19]\n",
      " [187 187 187 ...  19  18  18]]\n",
      "[1 0 0 0 0 0 0 0 0 0 0 0 0 0 0 0 0 0 0 0 0 0 0 0 0 0 0 0 0 0 0 0 0 0 0 0 0\n",
      " 0 0 0 0 0 0 0 0 0 0 0 0 0 0 0 0 0 0 0 0 0 0 0 0 0 0 0 0 0 0 0 0 0 0 0 0 0\n",
      " 0 0 0 0 0 0 0 0 0 0 0 0 0 0 0 0 0 0 0 0 0 0 0 0 0 0 0 0 0 0 0 0 0 0 0 0 0\n",
      " 0 0 0 0 0 0 0 0 0 0 0 0 0 0 0 0 0 0 0 0 0 0 0 0 0 0 0 0 0 0 0 0 0 0 0 0 0\n",
      " 0 0 0 0 0 0 0 0 0 0 0 0 0 0 0 0 0 0 0 0 0 0 0 0 0 0 0 0 0 0 0 0 0 0 0 0 0\n",
      " 0 0 0 0 0 0 0 0 0 0 0 0 0 0 0]\n",
      "train_input shape: (2600, 112, 92) / train_input dtype : uint8\n",
      "train_label shape: (2600, 200) / train_label dtype : int32\n"
     ]
    }
   ],
   "source": [
    "print(train_input[0])\n",
    "print(train_label[0])\n",
    "print('train_input shape:', train_input.shape,\"/\",\"train_input dtype :\", train_input.dtype)\n",
    "print('train_label shape:', train_label.shape,\"/\",\"train_label dtype :\", train_label.dtype)\n",
    "#np.savetxt(\"C:/Users/user/Desktop/train_label.csv\", train_label, delimiter=',')"
   ]
  },
  {
   "cell_type": "code",
   "execution_count": 22,
   "metadata": {},
   "outputs": [],
   "source": [
    "idx = 0\n",
    "\n",
    "for i in range(len(test_files)):\n",
    "    \n",
    "    if i%1 == 0:\n",
    "        label = [0 for j in range(int(len(test_files)/1))]\n",
    "        label[idx] = 1\n",
    "        idx = idx + 1\n",
    "       \n",
    "\n",
    "    img = cv2.imread(test_files[i], cv2.IMREAD_GRAYSCALE)\n",
    "    crop_img = img.copy()\n",
    "    crop_img = img[20:400, 150:520]\n",
    "    resize_img = cv2.resize(crop_img, (92, 112), interpolation=cv2.INTER_AREA)\n",
    "    test_input.append(resize_img)\n",
    "    test_label.append(label)\n",
    "    #cv2.imwrite(test_files[i], resize_img)\n",
    "    \n",
    "\n",
    "test_input = np.array(test_input)\n",
    "test_label = np.array(test_label)"
   ]
  },
  {
   "cell_type": "code",
   "execution_count": 23,
   "metadata": {},
   "outputs": [
    {
     "name": "stdout",
     "output_type": "stream",
     "text": [
      "[[190 189 190 ... 182 181 181]\n",
      " [189 190 190 ... 182 182 182]\n",
      " [189 188 188 ... 182 182 182]\n",
      " ...\n",
      " [166 166 165 ... 144 144 145]\n",
      " [165 166 166 ... 143 144 144]\n",
      " [166 166 165 ... 143 143 144]]\n",
      "[1 0 0 0 0 0 0 0 0 0 0 0 0 0 0 0 0 0 0 0 0 0 0 0 0 0 0 0 0 0 0 0 0 0 0 0 0\n",
      " 0 0 0 0 0 0 0 0 0 0 0 0 0 0 0 0 0 0 0 0 0 0 0 0 0 0 0 0 0 0 0 0 0 0 0 0 0\n",
      " 0 0 0 0 0 0 0 0 0 0 0 0 0 0 0 0 0 0 0 0 0 0 0 0 0 0 0 0 0 0 0 0 0 0 0 0 0\n",
      " 0 0 0 0 0 0 0 0 0 0 0 0 0 0 0 0 0 0 0 0 0 0 0 0 0 0 0 0 0 0 0 0 0 0 0 0 0\n",
      " 0 0 0 0 0 0 0 0 0 0 0 0 0 0 0 0 0 0 0 0 0 0 0 0 0 0 0 0 0 0 0 0 0 0 0 0 0\n",
      " 0 0 0 0 0 0 0 0 0 0 0 0 0 0 0]\n",
      "test_input shape: (200, 112, 92) / test_input dtype : uint8\n",
      "test_label shape: (200, 200) / test_label dtype : int32\n"
     ]
    }
   ],
   "source": [
    "print(test_input[0])\n",
    "print(test_label[0])\n",
    "print('test_input shape:', test_input.shape,\"/\",\"test_input dtype :\", test_input.dtype)\n",
    "print('test_label shape:', test_label.shape,\"/\",\"test_label dtype :\", test_label.dtype)\n",
    "#np.savetxt(\"C:/Users/user/Desktop/test_label.csv\", test_label, delimiter=',')"
   ]
  },
  {
   "cell_type": "code",
   "execution_count": 24,
   "metadata": {},
   "outputs": [],
   "source": [
    "img_rows = 112\n",
    "img_cols = 92\n",
    "\n",
    "batch_size = 64\n",
    "num_classes = 200\n",
    "epochs = 40\n",
    "\n",
    "input_shape = (img_rows, img_cols, 1)"
   ]
  },
  {
   "cell_type": "code",
   "execution_count": 25,
   "metadata": {},
   "outputs": [
    {
     "name": "stdout",
     "output_type": "stream",
     "text": [
      "train_input shape: (2600, 112, 92, 1) / train_input dtype : float32\n",
      "test_input1 shape: (200, 112, 92, 1) / test_input1 dtype : float32\n"
     ]
    }
   ],
   "source": [
    "train_input = train_input.reshape(train_input.shape[0], img_rows, img_cols, 1)\n",
    "test_input1 = test_input.reshape(test_input.shape[0], img_rows, img_cols, 1)\n",
    "\n",
    "train_input = train_input.astype('float32') / 255.\n",
    "test_input1 = test_input1.astype('float32') / 255.\n",
    "\n",
    "print('train_input shape:', train_input.shape,\"/\",\"train_input dtype :\", train_input.dtype)\n",
    "print('test_input1 shape:', test_input1.shape,\"/\",\"test_input1 dtype :\", test_input1.dtype)"
   ]
  },
  {
   "cell_type": "code",
   "execution_count": 26,
   "metadata": {},
   "outputs": [
    {
     "name": "stdout",
     "output_type": "stream",
     "text": [
      "Model: \"sequential_1\"\n",
      "_________________________________________________________________\n",
      "Layer (type)                 Output Shape              Param #   \n",
      "=================================================================\n",
      "conv2d_3 (Conv2D)            (None, 112, 92, 256)      6656      \n",
      "_________________________________________________________________\n",
      "max_pooling2d_3 (MaxPooling2 (None, 56, 46, 256)       0         \n",
      "_________________________________________________________________\n",
      "conv2d_4 (Conv2D)            (None, 56, 46, 128)       131200    \n",
      "_________________________________________________________________\n",
      "max_pooling2d_4 (MaxPooling2 (None, 28, 23, 128)       0         \n",
      "_________________________________________________________________\n",
      "dropout_2 (Dropout)          (None, 28, 23, 128)       0         \n",
      "_________________________________________________________________\n",
      "conv2d_5 (Conv2D)            (None, 28, 23, 128)       65664     \n",
      "_________________________________________________________________\n",
      "max_pooling2d_5 (MaxPooling2 (None, 14, 11, 128)       0         \n",
      "_________________________________________________________________\n",
      "flatten_1 (Flatten)          (None, 19712)             0         \n",
      "_________________________________________________________________\n",
      "dense_2 (Dense)              (None, 1000)              19713000  \n",
      "_________________________________________________________________\n",
      "dropout_3 (Dropout)          (None, 1000)              0         \n",
      "_________________________________________________________________\n",
      "dense_3 (Dense)              (None, 200)               200200    \n",
      "=================================================================\n",
      "Total params: 20,116,720\n",
      "Trainable params: 20,116,720\n",
      "Non-trainable params: 0\n",
      "_________________________________________________________________\n"
     ]
    }
   ],
   "source": [
    "model = Sequential()\n",
    "model.add(Conv2D(256, kernel_size=(5, 5), strides=(1, 1), padding='same', activation='relu', input_shape=input_shape))\n",
    "model.add(MaxPooling2D(pool_size=(2, 2), strides=(2, 2)))\n",
    "model.add(Conv2D(128, (2, 2), activation='relu', padding='same'))\n",
    "model.add(MaxPooling2D(pool_size=(2, 2)))\n",
    "model.add(Dropout(0.25))\n",
    "model.add(Conv2D(128, (2, 2), activation='relu', padding='same'))\n",
    "model.add(MaxPooling2D(pool_size=(2, 2)))\n",
    "model.add(Flatten())\n",
    "model.add(Dense(1000, activation='relu'))\n",
    "model.add(Dropout(0.5))\n",
    "model.add(Dense(num_classes, activation='softmax'))\n",
    "model.summary()"
   ]
  },
  {
   "cell_type": "code",
   "execution_count": 27,
   "metadata": {},
   "outputs": [
    {
     "name": "stdout",
     "output_type": "stream",
     "text": [
      "Epoch 1/40\n",
      "41/41 [==============================] - 8s 186ms/step - loss: 5.3091 - accuracy: 0.0035 - val_loss: 5.2910 - val_accuracy: 0.0050\n",
      "Epoch 2/40\n",
      "41/41 [==============================] - 6s 154ms/step - loss: 5.1371 - accuracy: 0.0196 - val_loss: 4.3144 - val_accuracy: 0.1200\n",
      "Epoch 3/40\n",
      "41/41 [==============================] - 7s 173ms/step - loss: 3.7157 - accuracy: 0.1627 - val_loss: 2.1683 - val_accuracy: 0.5150\n",
      "Epoch 4/40\n",
      "41/41 [==============================] - 9s 214ms/step - loss: 2.3108 - accuracy: 0.4223 - val_loss: 0.9158 - val_accuracy: 0.8000\n",
      "Epoch 5/40\n",
      "41/41 [==============================] - 8s 185ms/step - loss: 1.5327 - accuracy: 0.5919 - val_loss: 0.5631 - val_accuracy: 0.8950\n",
      "Epoch 6/40\n",
      "41/41 [==============================] - 8s 206ms/step - loss: 1.1539 - accuracy: 0.6881 - val_loss: 0.3577 - val_accuracy: 0.9350\n",
      "Epoch 7/40\n",
      "41/41 [==============================] - 9s 217ms/step - loss: 0.8653 - accuracy: 0.7627 - val_loss: 0.2697 - val_accuracy: 0.9500\n",
      "Epoch 8/40\n",
      "41/41 [==============================] - 9s 216ms/step - loss: 0.6564 - accuracy: 0.8069 - val_loss: 0.1848 - val_accuracy: 0.9650\n",
      "Epoch 9/40\n",
      "41/41 [==============================] - 9s 215ms/step - loss: 0.5165 - accuracy: 0.8415 - val_loss: 0.1894 - val_accuracy: 0.9750\n",
      "Epoch 10/40\n",
      "41/41 [==============================] - 8s 200ms/step - loss: 0.5056 - accuracy: 0.8469 - val_loss: 0.1566 - val_accuracy: 0.9700\n",
      "Epoch 11/40\n",
      "41/41 [==============================] - 8s 199ms/step - loss: 0.4040 - accuracy: 0.8862 - val_loss: 0.1205 - val_accuracy: 0.9700\n",
      "Epoch 12/40\n",
      "41/41 [==============================] - 9s 215ms/step - loss: 0.3202 - accuracy: 0.9058 - val_loss: 0.1192 - val_accuracy: 0.9700\n",
      "Epoch 13/40\n",
      "41/41 [==============================] - 10s 233ms/step - loss: 0.2601 - accuracy: 0.9231 - val_loss: 0.1335 - val_accuracy: 0.9650\n",
      "Epoch 14/40\n",
      "41/41 [==============================] - 9s 220ms/step - loss: 0.2771 - accuracy: 0.9177 - val_loss: 0.1049 - val_accuracy: 0.9750\n",
      "Epoch 15/40\n",
      "41/41 [==============================] - 9s 210ms/step - loss: 0.2427 - accuracy: 0.9331 - val_loss: 0.0918 - val_accuracy: 0.9850\n",
      "Epoch 16/40\n",
      "41/41 [==============================] - 8s 203ms/step - loss: 0.2350 - accuracy: 0.9338 - val_loss: 0.0842 - val_accuracy: 0.9700\n",
      "Epoch 17/40\n",
      "41/41 [==============================] - 8s 203ms/step - loss: 0.1993 - accuracy: 0.9400 - val_loss: 0.0729 - val_accuracy: 0.9800\n",
      "Epoch 18/40\n",
      "41/41 [==============================] - 10s 246ms/step - loss: 0.1779 - accuracy: 0.9438 - val_loss: 0.1207 - val_accuracy: 0.9600\n",
      "Epoch 19/40\n",
      "41/41 [==============================] - 10s 246ms/step - loss: 0.1489 - accuracy: 0.9585 - val_loss: 0.0765 - val_accuracy: 0.9700\n",
      "Epoch 20/40\n",
      "41/41 [==============================] - 10s 240ms/step - loss: 0.1388 - accuracy: 0.9569 - val_loss: 0.1005 - val_accuracy: 0.9700\n",
      "Epoch 21/40\n",
      "41/41 [==============================] - 10s 241ms/step - loss: 0.1432 - accuracy: 0.9546 - val_loss: 0.0743 - val_accuracy: 0.9750\n",
      "Epoch 22/40\n",
      "41/41 [==============================] - 9s 230ms/step - loss: 0.1310 - accuracy: 0.9585 - val_loss: 0.1110 - val_accuracy: 0.9800\n",
      "Epoch 23/40\n",
      "41/41 [==============================] - 8s 204ms/step - loss: 0.1480 - accuracy: 0.9558 - val_loss: 0.0936 - val_accuracy: 0.9750\n",
      "Epoch 24/40\n",
      "41/41 [==============================] - 8s 204ms/step - loss: 0.1372 - accuracy: 0.9585 - val_loss: 0.0840 - val_accuracy: 0.9750\n",
      "Epoch 25/40\n",
      "41/41 [==============================] - 9s 209ms/step - loss: 0.1574 - accuracy: 0.9550 - val_loss: 0.1122 - val_accuracy: 0.9700\n",
      "Epoch 26/40\n",
      "41/41 [==============================] - 8s 202ms/step - loss: 0.1269 - accuracy: 0.9635 - val_loss: 0.0835 - val_accuracy: 0.9750\n",
      "Epoch 27/40\n",
      "41/41 [==============================] - 8s 201ms/step - loss: 0.1087 - accuracy: 0.9627 - val_loss: 0.0641 - val_accuracy: 0.9900\n",
      "Epoch 28/40\n",
      "41/41 [==============================] - 8s 201ms/step - loss: 0.1179 - accuracy: 0.9646 - val_loss: 0.0928 - val_accuracy: 0.9800\n",
      "Epoch 29/40\n",
      "41/41 [==============================] - 7s 180ms/step - loss: 0.1009 - accuracy: 0.9708 - val_loss: 0.0880 - val_accuracy: 0.9750\n",
      "Epoch 30/40\n",
      "41/41 [==============================] - 7s 176ms/step - loss: 0.0840 - accuracy: 0.9750 - val_loss: 0.0802 - val_accuracy: 0.9800\n",
      "Epoch 31/40\n",
      "41/41 [==============================] - 7s 161ms/step - loss: 0.0842 - accuracy: 0.9750 - val_loss: 0.1274 - val_accuracy: 0.9700\n",
      "Epoch 32/40\n",
      "41/41 [==============================] - 9s 212ms/step - loss: 0.1114 - accuracy: 0.9631 - val_loss: 0.0737 - val_accuracy: 0.9800\n",
      "Epoch 33/40\n",
      "41/41 [==============================] - 9s 219ms/step - loss: 0.0934 - accuracy: 0.9677 - val_loss: 0.0895 - val_accuracy: 0.9700\n",
      "Epoch 34/40\n",
      "41/41 [==============================] - 9s 219ms/step - loss: 0.0976 - accuracy: 0.9715 - val_loss: 0.0949 - val_accuracy: 0.9800\n",
      "Epoch 35/40\n",
      "41/41 [==============================] - 9s 217ms/step - loss: 0.0686 - accuracy: 0.9785 - val_loss: 0.0879 - val_accuracy: 0.9800\n",
      "Epoch 36/40\n",
      "41/41 [==============================] - 9s 223ms/step - loss: 0.0709 - accuracy: 0.9800 - val_loss: 0.1023 - val_accuracy: 0.9800\n",
      "Epoch 37/40\n",
      "41/41 [==============================] - 9s 216ms/step - loss: 0.0877 - accuracy: 0.9727 - val_loss: 0.0938 - val_accuracy: 0.9750\n",
      "Epoch 38/40\n",
      "41/41 [==============================] - 9s 223ms/step - loss: 0.0757 - accuracy: 0.9781 - val_loss: 0.0865 - val_accuracy: 0.9750\n",
      "Epoch 39/40\n",
      "41/41 [==============================] - 9s 230ms/step - loss: 0.0669 - accuracy: 0.9796 - val_loss: 0.0635 - val_accuracy: 0.9900\n",
      "Epoch 40/40\n",
      "41/41 [==============================] - 9s 219ms/step - loss: 0.0704 - accuracy: 0.9808 - val_loss: 0.0920 - val_accuracy: 0.9850\n"
     ]
    }
   ],
   "source": [
    "model.compile(loss='categorical_crossentropy', optimizer='adam', metrics=['accuracy']) \n",
    "hist = model.fit(train_input, train_label, batch_size=batch_size, epochs=epochs, verbose=1, validation_data=(test_input1, test_label))"
   ]
  },
  {
   "cell_type": "code",
   "execution_count": 30,
   "metadata": {},
   "outputs": [],
   "source": [
    "model.save('3th_grade_experiment.h5')\n",
    "model = keras.models.load_model('3th_grade_experiment.h5')"
   ]
  },
  {
   "cell_type": "code",
   "execution_count": 32,
   "metadata": {},
   "outputs": [],
   "source": [
    "converter = tf.lite.TFLiteConverter.from_keras_model(model)\n",
    "tflite_model = converter.convert()"
   ]
  },
  {
   "cell_type": "code",
   "execution_count": 13,
   "metadata": {},
   "outputs": [
    {
     "name": "stdout",
     "output_type": "stream",
     "text": [
      "Test loss: 0.12010584026575089\n",
      "Test accuracy: 0.9750000238418579\n"
     ]
    }
   ],
   "source": [
    "score = model.evaluate(test_input1, test_label, verbose=0)\n",
    "print('Test loss:', score[0]) \n",
    "print('Test accuracy:', score[1])"
   ]
  },
  {
   "cell_type": "code",
   "execution_count": 21,
   "metadata": {},
   "outputs": [],
   "source": [
    "result=model.predict(test_input1)\n",
    "\n",
    "test_label1 = tf.argmax(test_label,1)\n",
    "result = tf.argmax(result,1)"
   ]
  },
  {
   "cell_type": "code",
   "execution_count": 27,
   "metadata": {},
   "outputs": [
    {
     "name": "stdout",
     "output_type": "stream",
     "text": [
      "[2, 24, 92, 115, 139]\n",
      "5\n"
     ]
    }
   ],
   "source": [
    "num = []\n",
    "\n",
    "for i in range(200):\n",
    "    if test_label1[i]!=result[i]:\n",
    "        num.append(i)\n",
    "\n",
    "print(num)\n",
    "print(len(num))"
   ]
  },
  {
   "cell_type": "code",
   "execution_count": 28,
   "metadata": {},
   "outputs": [
    {
     "data": {
      "image/png": "[encoded data removed]",
      "text/plain": [
       "<Figure size 1440x1440 with 5 Axes>"
      ]
     },
     "metadata": {
      "needs_background": "light"
     },
     "output_type": "display_data"
    }
   ],
   "source": [
    "plt.figure(figsize=(20, 20))\n",
    "for i in range(len(num)):\n",
    "    plt.subplot(10, 20, i+1)\n",
    "    plt.imshow(test_input[num[i]], cmap=\"gray\") #plt.imshow의 cmap=\"gray\"는 내부적으로 밝기 조절을 함, 원본보다 밝게 보일 수 있음.\n",
    "    plt.axis(\"off\")\n",
    "plt.show()"
   ]
  },
  {
   "cell_type": "code",
   "execution_count": 29,
   "metadata": {},
   "outputs": [
    {
     "data": {
      "text/plain": [
       "array([[182, 182, 182, ..., 175, 175, 174],\n",
       "       [182, 182, 181, ..., 176, 176, 174],\n",
       "       [181, 183, 182, ..., 175, 176, 175],\n",
       "       ...,\n",
       "       [163, 162, 162, ..., 149, 151, 150],\n",
       "       [163, 162, 163, ..., 148, 149, 149],\n",
       "       [164, 164, 163, ..., 146, 145, 148]], dtype=uint8)"
      ]
     },
     "execution_count": 29,
     "metadata": {},
     "output_type": "execute_result"
    }
   ],
   "source": [
    "test_input[num[0]]"
   ]
  },
  {
   "cell_type": "code",
   "execution_count": 30,
   "metadata": {},
   "outputs": [
    {
     "data": {
      "text/plain": [
       "(112, 92)"
      ]
     },
     "execution_count": 30,
     "metadata": {},
     "output_type": "execute_result"
    }
   ],
   "source": [
    "test_input[num[0]].shape"
   ]
  },
  {
   "cell_type": "code",
   "execution_count": null,
   "metadata": {},
   "outputs": [],
   "source": []
  }
 ],
 "metadata": {
  "kernelspec": {
   "display_name": "Python 3",
   "language": "python",
   "name": "python3"
  },
  "language_info": {
   "codemirror_mode": {
    "name": "ipython",
    "version": 3
   },
   "file_extension": ".py",
   "mimetype": "text/x-python",
   "name": "python",
   "nbconvert_exporter": "python",
   "pygments_lexer": "ipython3",
   "version": "3.8.8"
  }
 },
 "nbformat": 4,
 "nbformat_minor": 4
}
